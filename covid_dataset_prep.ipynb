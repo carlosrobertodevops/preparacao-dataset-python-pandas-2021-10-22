{
 "cells": [
  {
   "cell_type": "code",
   "execution_count": 2,
   "id": "e51eafeb",
   "metadata": {},
   "outputs": [
    {
     "name": "stdout",
     "output_type": "stream",
     "text": [
      "Collecting opencage\n",
      "  Downloading opencage-2.4.0-py3-none-any.whl.metadata (5.8 kB)\n",
      "Requirement already satisfied: Requests>=2.31.0 in /Users/carlosroberto/anaconda3/lib/python3.11/site-packages (from opencage) (2.31.0)\n",
      "Collecting backoff>=2.2.1 (from opencage)\n",
      "  Downloading backoff-2.2.1-py3-none-any.whl (15 kB)\n",
      "Requirement already satisfied: charset-normalizer<4,>=2 in /Users/carlosroberto/anaconda3/lib/python3.11/site-packages (from Requests>=2.31.0->opencage) (2.0.4)\n",
      "Requirement already satisfied: idna<4,>=2.5 in /Users/carlosroberto/anaconda3/lib/python3.11/site-packages (from Requests>=2.31.0->opencage) (3.4)\n",
      "Requirement already satisfied: urllib3<3,>=1.21.1 in /Users/carlosroberto/anaconda3/lib/python3.11/site-packages (from Requests>=2.31.0->opencage) (1.26.18)\n",
      "Requirement already satisfied: certifi>=2017.4.17 in /Users/carlosroberto/anaconda3/lib/python3.11/site-packages (from Requests>=2.31.0->opencage) (2023.11.17)\n",
      "Downloading opencage-2.4.0-py3-none-any.whl (16 kB)\n",
      "Installing collected packages: backoff, opencage\n",
      "Successfully installed backoff-2.2.1 opencage-2.4.0\n"
     ]
    }
   ],
   "source": [
    "! pip install opencage"
   ]
  },
  {
   "cell_type": "code",
   "execution_count": 3,
   "id": "ee552fc3",
   "metadata": {},
   "outputs": [],
   "source": [
    "# -*- coding: utf-8 -*-\n",
    "import os\n",
    "import pandas as pd\n",
    "from opencage.geocoder import OpenCageGeocode"
   ]
  },
  {
   "cell_type": "code",
   "execution_count": 4,
   "id": "6406d8ae",
   "metadata": {},
   "outputs": [],
   "source": [
    "opencagekey = open(\"key.secret\", \"r\")\n",
    "key = opencagekey.read().replace(\"\\n\", \"\")\n",
    "opencagekey.close()"
   ]
  },
  {
   "cell_type": "code",
   "execution_count": 5,
   "id": "b99b6514",
   "metadata": {},
   "outputs": [],
   "source": [
    "dataset = pd.read_csv(\"caso_full.csv\")"
   ]
  },
  {
   "cell_type": "code",
   "execution_count": 6,
   "id": "1bdc769b",
   "metadata": {},
   "outputs": [
    {
     "name": "stdout",
     "output_type": "stream",
     "text": [
      "    Unnamed: 0                 muni    codIbge        data  semEpid  \\\n",
      "0            0            São Paulo  3550308.0  2020-02-29   202009   \n",
      "1            1     Feira de Santana  2910800.0  2020-03-07   202010   \n",
      "2            2          Barra Mansa  3300407.0  2020-03-07   202010   \n",
      "3            3       Rio de Janeiro  3304557.0  2020-03-07   202010   \n",
      "4            4  Santana de Parnaíba  3547304.0  2020-03-07   202010   \n",
      "5            5            São Paulo  3550308.0  2020-03-07   202010   \n",
      "6            6             Brasília  5300108.0  2020-03-07   202010   \n",
      "7            7               Manaus  1302603.0  2020-03-14   202011   \n",
      "8            8                Natal  2408102.0  2020-03-14   202011   \n",
      "9            9               Recife  2611606.0  2020-03-14   202011   \n",
      "10          10               Maceió  2704302.0  2020-03-14   202011   \n",
      "11          11              Aracaju  2800308.0  2020-03-14   202011   \n",
      "12          12     Feira de Santana  2910800.0  2020-03-14   202011   \n",
      "13          13             Salvador  2927408.0  2020-03-14   202011   \n",
      "14          14          Divinópolis  3122306.0  2020-03-14   202011   \n",
      "\n",
      "      popEstim  confAcc  confAcc100k  obitoAcc tipoLocal  uf  confDia  \\\n",
      "0   12325232.0        2      0.01623         0      city  SP        2   \n",
      "1     619609.0        2      0.32278         0      city  BA        2   \n",
      "2     184833.0        1      0.54103         0      city  RJ        1   \n",
      "3    6747815.0        1      0.01482         0      city  RJ        1   \n",
      "4     142301.0        1      0.70274         0      city  SP        1   \n",
      "5   12325232.0       12      0.09736         0      city  SP       10   \n",
      "6    3055149.0        1      0.03273         0      city  DF        1   \n",
      "7    2219580.0        2      0.09011         0      city  AM        2   \n",
      "8     890480.0        1      0.11230         0      city  RN        1   \n",
      "9    1653461.0        6      0.36288         0      city  PE        6   \n",
      "10   1025360.0        1      0.09753         0      city  AL        1   \n",
      "11    664908.0        1      0.15040         0      city  SE        1   \n",
      "12    619609.0        4      0.64557         0      city  BA        2   \n",
      "13   2886698.0        3      0.10392         0      city  BA        3   \n",
      "14    240408.0        1      0.41596         0      city  MG        1   \n",
      "\n",
      "    obitoDia        lat        lon _merge  \n",
      "0          0 -23.550651 -46.633382   both  \n",
      "1          0 -12.257893 -38.959805   both  \n",
      "2          0 -22.539484 -44.173513   both  \n",
      "3          0 -22.911014 -43.209373   both  \n",
      "4          0 -23.444671 -46.916772   both  \n",
      "5          0 -23.550651 -46.633382   both  \n",
      "6          0 -15.793404 -47.882317   both  \n",
      "7          0  -3.131633 -59.982504   both  \n",
      "8          0  -5.805398 -35.208091   both  \n",
      "9          0  -8.064193 -34.878152   both  \n",
      "10         0  -9.665830 -35.735280   both  \n",
      "11         0 -10.916206 -37.077466   both  \n",
      "12         0 -12.257893 -38.959805   both  \n",
      "13         0 -12.982250 -38.481277   both  \n",
      "14         0 -20.143456 -44.891250   both  \n"
     ]
    }
   ],
   "source": [
    "print(dataset[0:15])"
   ]
  },
  {
   "cell_type": "code",
   "execution_count": 7,
   "id": "1100955f",
   "metadata": {},
   "outputs": [
    {
     "data": {
      "text/html": [
       "<div>\n",
       "<style scoped>\n",
       "    .dataframe tbody tr th:only-of-type {\n",
       "        vertical-align: middle;\n",
       "    }\n",
       "\n",
       "    .dataframe tbody tr th {\n",
       "        vertical-align: top;\n",
       "    }\n",
       "\n",
       "    .dataframe thead th {\n",
       "        text-align: right;\n",
       "    }\n",
       "</style>\n",
       "<table border=\"1\" class=\"dataframe\">\n",
       "  <thead>\n",
       "    <tr style=\"text-align: right;\">\n",
       "      <th></th>\n",
       "      <th>Unnamed: 0</th>\n",
       "      <th>muni</th>\n",
       "      <th>codIbge</th>\n",
       "      <th>data</th>\n",
       "      <th>semEpid</th>\n",
       "      <th>popEstim</th>\n",
       "      <th>confAcc</th>\n",
       "      <th>confAcc100k</th>\n",
       "      <th>obitoAcc</th>\n",
       "      <th>tipoLocal</th>\n",
       "      <th>uf</th>\n",
       "      <th>confDia</th>\n",
       "      <th>obitoDia</th>\n",
       "      <th>lat</th>\n",
       "      <th>lon</th>\n",
       "      <th>_merge</th>\n",
       "    </tr>\n",
       "  </thead>\n",
       "  <tbody>\n",
       "    <tr>\n",
       "      <th>0</th>\n",
       "      <td>0</td>\n",
       "      <td>São Paulo</td>\n",
       "      <td>3550308.0</td>\n",
       "      <td>2020-02-29</td>\n",
       "      <td>202009</td>\n",
       "      <td>12325232.0</td>\n",
       "      <td>2</td>\n",
       "      <td>0.01623</td>\n",
       "      <td>0</td>\n",
       "      <td>city</td>\n",
       "      <td>SP</td>\n",
       "      <td>2</td>\n",
       "      <td>0</td>\n",
       "      <td>-23.550651</td>\n",
       "      <td>-46.633382</td>\n",
       "      <td>both</td>\n",
       "    </tr>\n",
       "    <tr>\n",
       "      <th>1</th>\n",
       "      <td>1</td>\n",
       "      <td>Feira de Santana</td>\n",
       "      <td>2910800.0</td>\n",
       "      <td>2020-03-07</td>\n",
       "      <td>202010</td>\n",
       "      <td>619609.0</td>\n",
       "      <td>2</td>\n",
       "      <td>0.32278</td>\n",
       "      <td>0</td>\n",
       "      <td>city</td>\n",
       "      <td>BA</td>\n",
       "      <td>2</td>\n",
       "      <td>0</td>\n",
       "      <td>-12.257893</td>\n",
       "      <td>-38.959805</td>\n",
       "      <td>both</td>\n",
       "    </tr>\n",
       "    <tr>\n",
       "      <th>2</th>\n",
       "      <td>2</td>\n",
       "      <td>Barra Mansa</td>\n",
       "      <td>3300407.0</td>\n",
       "      <td>2020-03-07</td>\n",
       "      <td>202010</td>\n",
       "      <td>184833.0</td>\n",
       "      <td>1</td>\n",
       "      <td>0.54103</td>\n",
       "      <td>0</td>\n",
       "      <td>city</td>\n",
       "      <td>RJ</td>\n",
       "      <td>1</td>\n",
       "      <td>0</td>\n",
       "      <td>-22.539484</td>\n",
       "      <td>-44.173513</td>\n",
       "      <td>both</td>\n",
       "    </tr>\n",
       "    <tr>\n",
       "      <th>3</th>\n",
       "      <td>3</td>\n",
       "      <td>Rio de Janeiro</td>\n",
       "      <td>3304557.0</td>\n",
       "      <td>2020-03-07</td>\n",
       "      <td>202010</td>\n",
       "      <td>6747815.0</td>\n",
       "      <td>1</td>\n",
       "      <td>0.01482</td>\n",
       "      <td>0</td>\n",
       "      <td>city</td>\n",
       "      <td>RJ</td>\n",
       "      <td>1</td>\n",
       "      <td>0</td>\n",
       "      <td>-22.911014</td>\n",
       "      <td>-43.209373</td>\n",
       "      <td>both</td>\n",
       "    </tr>\n",
       "    <tr>\n",
       "      <th>4</th>\n",
       "      <td>4</td>\n",
       "      <td>Santana de Parnaíba</td>\n",
       "      <td>3547304.0</td>\n",
       "      <td>2020-03-07</td>\n",
       "      <td>202010</td>\n",
       "      <td>142301.0</td>\n",
       "      <td>1</td>\n",
       "      <td>0.70274</td>\n",
       "      <td>0</td>\n",
       "      <td>city</td>\n",
       "      <td>SP</td>\n",
       "      <td>1</td>\n",
       "      <td>0</td>\n",
       "      <td>-23.444671</td>\n",
       "      <td>-46.916772</td>\n",
       "      <td>both</td>\n",
       "    </tr>\n",
       "  </tbody>\n",
       "</table>\n",
       "</div>"
      ],
      "text/plain": [
       "   Unnamed: 0                 muni    codIbge        data  semEpid  \\\n",
       "0           0            São Paulo  3550308.0  2020-02-29   202009   \n",
       "1           1     Feira de Santana  2910800.0  2020-03-07   202010   \n",
       "2           2          Barra Mansa  3300407.0  2020-03-07   202010   \n",
       "3           3       Rio de Janeiro  3304557.0  2020-03-07   202010   \n",
       "4           4  Santana de Parnaíba  3547304.0  2020-03-07   202010   \n",
       "\n",
       "     popEstim  confAcc  confAcc100k  obitoAcc tipoLocal  uf  confDia  \\\n",
       "0  12325232.0        2      0.01623         0      city  SP        2   \n",
       "1    619609.0        2      0.32278         0      city  BA        2   \n",
       "2    184833.0        1      0.54103         0      city  RJ        1   \n",
       "3   6747815.0        1      0.01482         0      city  RJ        1   \n",
       "4    142301.0        1      0.70274         0      city  SP        1   \n",
       "\n",
       "   obitoDia        lat        lon _merge  \n",
       "0         0 -23.550651 -46.633382   both  \n",
       "1         0 -12.257893 -38.959805   both  \n",
       "2         0 -22.539484 -44.173513   both  \n",
       "3         0 -22.911014 -43.209373   both  \n",
       "4         0 -23.444671 -46.916772   both  "
      ]
     },
     "execution_count": 7,
     "metadata": {},
     "output_type": "execute_result"
    }
   ],
   "source": [
    "dataset.head(5)"
   ]
  },
  {
   "cell_type": "code",
   "execution_count": 10,
   "id": "509877fc",
   "metadata": {},
   "outputs": [],
   "source": [
    "# colunas = [\n",
    "#     'city',\n",
    "#     'city_ibge_code',\n",
    "#     'date',\n",
    "#     'epidemiological_week',\n",
    "#     'estimated_population',\n",
    "#     'last_available_confirmed',\n",
    "#     'last_available_confirmed_per_100k_inhabitants',\n",
    "#     'last_available_deaths',\n",
    "#     'place_type',\n",
    "#     'state',\n",
    "#     'new_confirmed',\n",
    "#     'new_deaths']\n",
    "# dataset = pd.read_csv('caso_full.csv', encoding = 'utf-8', usecols=colunas)"
   ]
  },
  {
   "cell_type": "code",
   "execution_count": 14,
   "id": "9330223c",
   "metadata": {
    "scrolled": true
   },
   "outputs": [
    {
     "data": {
      "text/html": [
       "<div>\n",
       "<style scoped>\n",
       "    .dataframe tbody tr th:only-of-type {\n",
       "        vertical-align: middle;\n",
       "    }\n",
       "\n",
       "    .dataframe tbody tr th {\n",
       "        vertical-align: top;\n",
       "    }\n",
       "\n",
       "    .dataframe thead th {\n",
       "        text-align: right;\n",
       "    }\n",
       "</style>\n",
       "<table border=\"1\" class=\"dataframe\">\n",
       "  <thead>\n",
       "    <tr style=\"text-align: right;\">\n",
       "      <th></th>\n",
       "      <th>Unnamed: 0</th>\n",
       "      <th>muni</th>\n",
       "      <th>codIbge</th>\n",
       "      <th>data</th>\n",
       "      <th>semEpid</th>\n",
       "      <th>popEstim</th>\n",
       "      <th>confAcc</th>\n",
       "      <th>confAcc100k</th>\n",
       "      <th>obitoAcc</th>\n",
       "      <th>tipoLocal</th>\n",
       "      <th>uf</th>\n",
       "      <th>confDia</th>\n",
       "      <th>obitoDia</th>\n",
       "      <th>lat</th>\n",
       "      <th>lon</th>\n",
       "      <th>_merge</th>\n",
       "    </tr>\n",
       "  </thead>\n",
       "  <tbody>\n",
       "    <tr>\n",
       "      <th>0</th>\n",
       "      <td>0</td>\n",
       "      <td>São Paulo</td>\n",
       "      <td>3550308.0</td>\n",
       "      <td>2020-02-29</td>\n",
       "      <td>202009</td>\n",
       "      <td>12325232.0</td>\n",
       "      <td>2</td>\n",
       "      <td>0.01623</td>\n",
       "      <td>0</td>\n",
       "      <td>city</td>\n",
       "      <td>SP</td>\n",
       "      <td>2</td>\n",
       "      <td>0</td>\n",
       "      <td>-23.550651</td>\n",
       "      <td>-46.633382</td>\n",
       "      <td>both</td>\n",
       "    </tr>\n",
       "    <tr>\n",
       "      <th>1</th>\n",
       "      <td>1</td>\n",
       "      <td>Feira de Santana</td>\n",
       "      <td>2910800.0</td>\n",
       "      <td>2020-03-07</td>\n",
       "      <td>202010</td>\n",
       "      <td>619609.0</td>\n",
       "      <td>2</td>\n",
       "      <td>0.32278</td>\n",
       "      <td>0</td>\n",
       "      <td>city</td>\n",
       "      <td>BA</td>\n",
       "      <td>2</td>\n",
       "      <td>0</td>\n",
       "      <td>-12.257893</td>\n",
       "      <td>-38.959805</td>\n",
       "      <td>both</td>\n",
       "    </tr>\n",
       "    <tr>\n",
       "      <th>2</th>\n",
       "      <td>2</td>\n",
       "      <td>Barra Mansa</td>\n",
       "      <td>3300407.0</td>\n",
       "      <td>2020-03-07</td>\n",
       "      <td>202010</td>\n",
       "      <td>184833.0</td>\n",
       "      <td>1</td>\n",
       "      <td>0.54103</td>\n",
       "      <td>0</td>\n",
       "      <td>city</td>\n",
       "      <td>RJ</td>\n",
       "      <td>1</td>\n",
       "      <td>0</td>\n",
       "      <td>-22.539484</td>\n",
       "      <td>-44.173513</td>\n",
       "      <td>both</td>\n",
       "    </tr>\n",
       "    <tr>\n",
       "      <th>3</th>\n",
       "      <td>3</td>\n",
       "      <td>Rio de Janeiro</td>\n",
       "      <td>3304557.0</td>\n",
       "      <td>2020-03-07</td>\n",
       "      <td>202010</td>\n",
       "      <td>6747815.0</td>\n",
       "      <td>1</td>\n",
       "      <td>0.01482</td>\n",
       "      <td>0</td>\n",
       "      <td>city</td>\n",
       "      <td>RJ</td>\n",
       "      <td>1</td>\n",
       "      <td>0</td>\n",
       "      <td>-22.911014</td>\n",
       "      <td>-43.209373</td>\n",
       "      <td>both</td>\n",
       "    </tr>\n",
       "    <tr>\n",
       "      <th>4</th>\n",
       "      <td>4</td>\n",
       "      <td>Santana de Parnaíba</td>\n",
       "      <td>3547304.0</td>\n",
       "      <td>2020-03-07</td>\n",
       "      <td>202010</td>\n",
       "      <td>142301.0</td>\n",
       "      <td>1</td>\n",
       "      <td>0.70274</td>\n",
       "      <td>0</td>\n",
       "      <td>city</td>\n",
       "      <td>SP</td>\n",
       "      <td>1</td>\n",
       "      <td>0</td>\n",
       "      <td>-23.444671</td>\n",
       "      <td>-46.916772</td>\n",
       "      <td>both</td>\n",
       "    </tr>\n",
       "  </tbody>\n",
       "</table>\n",
       "</div>"
      ],
      "text/plain": [
       "   Unnamed: 0                 muni    codIbge        data  semEpid  \\\n",
       "0           0            São Paulo  3550308.0  2020-02-29   202009   \n",
       "1           1     Feira de Santana  2910800.0  2020-03-07   202010   \n",
       "2           2          Barra Mansa  3300407.0  2020-03-07   202010   \n",
       "3           3       Rio de Janeiro  3304557.0  2020-03-07   202010   \n",
       "4           4  Santana de Parnaíba  3547304.0  2020-03-07   202010   \n",
       "\n",
       "     popEstim  confAcc  confAcc100k  obitoAcc tipoLocal  uf  confDia  \\\n",
       "0  12325232.0        2      0.01623         0      city  SP        2   \n",
       "1    619609.0        2      0.32278         0      city  BA        2   \n",
       "2    184833.0        1      0.54103         0      city  RJ        1   \n",
       "3   6747815.0        1      0.01482         0      city  RJ        1   \n",
       "4    142301.0        1      0.70274         0      city  SP        1   \n",
       "\n",
       "   obitoDia        lat        lon _merge  \n",
       "0         0 -23.550651 -46.633382   both  \n",
       "1         0 -12.257893 -38.959805   both  \n",
       "2         0 -22.539484 -44.173513   both  \n",
       "3         0 -22.911014 -43.209373   both  \n",
       "4         0 -23.444671 -46.916772   both  "
      ]
     },
     "execution_count": 14,
     "metadata": {},
     "output_type": "execute_result"
    }
   ],
   "source": [
    "# print(dataset[0:15])\n",
    "\n",
    "dataset.head(5)"
   ]
  },
  {
   "cell_type": "code",
   "execution_count": null,
   "id": "02b3e639",
   "metadata": {},
   "outputs": [],
   "source": [
    "dataset = dataset.rename(\n",
    "    columns={\n",
    "        \"city\": \"muni\",\n",
    "        \"city_ibge_code\": \"codIbge\",\n",
    "        \"date\": \"data\",\n",
    "        \"epidemiological_week\": \"semEpid\",\n",
    "        \"estimated_population\": \"popEstim\",\n",
    "        \"last_available_confirmed\": \"confAcc\",\n",
    "        \"last_available_confirmed_per_100k_inhabitants\": \"confAcc100k\",\n",
    "        \"last_available_deaths\": \"obitoAcc\",\n",
    "        \"place_type\": \"tipoLocal\",\n",
    "        \"state\": \"uf\",\n",
    "        \"new_confirmed\": \"confDia\",\n",
    "        \"new_deaths\": \"obitoDia\",\n",
    "    }\n",
    ")"
   ]
  },
  {
   "cell_type": "code",
   "execution_count": null,
   "id": "7fa0849c",
   "metadata": {},
   "outputs": [],
   "source": [
    "print(dataset.head(15))"
   ]
  },
  {
   "cell_type": "code",
   "execution_count": null,
   "id": "f0ca41e4",
   "metadata": {},
   "outputs": [],
   "source": [
    "dataset.dropna(subset=[\"muni\", \"codIbge\"], inplace=True)"
   ]
  },
  {
   "cell_type": "code",
   "execution_count": null,
   "id": "c513b0d1",
   "metadata": {},
   "outputs": [],
   "source": [
    "print(dataset.head(15))"
   ]
  },
  {
   "cell_type": "code",
   "execution_count": null,
   "id": "ef153da9",
   "metadata": {},
   "outputs": [],
   "source": [
    "aggregation = {\n",
    "    \"muni\": \"first\",  # Primeiro valor encontrado\n",
    "    \"codIbge\": \"first\",  # Primeiro valor encontrado\n",
    "    \"data\": \"last\",  # Ultimo valor encontrado\n",
    "    \"semEpid\": \"first\",  # Primeiro valor encontrado\n",
    "    \"popEstim\": \"max\",  # Maximo valor do conjunto\n",
    "    \"confAcc\": \"max\",  # Maximo valor do conjunto\n",
    "    \"confAcc100k\": \"max\",  # Maximo valor do conjunto\n",
    "    \"obitoAcc\": \"max\",  # Maximo valor do conjunto\n",
    "    \"tipoLocal\": \"first\",  # Primeiro valor encontrado\n",
    "    \"uf\": \"first\",  # Primeiro valor encontrado\n",
    "    \"confDia\": \"sum\",  # Soma dos valores do conjunto\n",
    "    \"obitoDia\": \"sum\",\n",
    "}  # Soma dos valores do conjunto\n",
    "# Agrega resultados da semana epidemiológica por município\n",
    "dataset = (\n",
    "    dataset.groupby([\"semEpid\", \"codIbge\"])\n",
    "    .aggregate(aggregation)\n",
    "    .reindex(columns=dataset.columns)\n",
    ")"
   ]
  },
  {
   "cell_type": "code",
   "execution_count": null,
   "id": "abfa70f2",
   "metadata": {
    "scrolled": true
   },
   "outputs": [],
   "source": [
    "print(dataset.head(15))"
   ]
  },
  {
   "cell_type": "code",
   "execution_count": null,
   "id": "837d2d62",
   "metadata": {},
   "outputs": [],
   "source": [
    "dataset.reset_index(drop=True, inplace=True)"
   ]
  },
  {
   "cell_type": "code",
   "execution_count": null,
   "id": "e563936e",
   "metadata": {},
   "outputs": [],
   "source": [
    "print(dataset.head(15))"
   ]
  },
  {
   "cell_type": "code",
   "execution_count": null,
   "id": "aca96b58",
   "metadata": {},
   "outputs": [],
   "source": [
    "print(dataset.shape[0])"
   ]
  },
  {
   "cell_type": "code",
   "execution_count": null,
   "id": "42aea0c1",
   "metadata": {},
   "outputs": [],
   "source": [
    "if not os.path.exists(\"rocketseat.csv\"):\n",
    "    colNames = [\"muni\", \"codIbge\", \"uf\", \"lat\", \"lon\"]\n",
    "    geoloc = pd.DataFrame(columns=colNames)\n",
    "    geoloc.to_csv(\"rocketseat.csv\", encoding=\"utf-8\")"
   ]
  },
  {
   "cell_type": "code",
   "execution_count": null,
   "id": "e0ebcfa3",
   "metadata": {},
   "outputs": [],
   "source": [
    "geoloc = pd.read_csv(\n",
    "    \"teste1.csv\", encoding=\"utf-8\", usecols=[\"muni\", \"codIbge\", \"uf\", \"lat\", \"lon\"]\n",
    ")"
   ]
  },
  {
   "cell_type": "code",
   "execution_count": null,
   "id": "c1d48cef",
   "metadata": {
    "scrolled": true
   },
   "outputs": [],
   "source": [
    "print(geoloc.head(15))"
   ]
  },
  {
   "cell_type": "code",
   "execution_count": null,
   "id": "2c634173",
   "metadata": {},
   "outputs": [],
   "source": [
    "joinDataset = pd.merge(\n",
    "    dataset, geoloc, on=[\"muni\", \"codIbge\", \"uf\"], how=\"left\", indicator=True\n",
    ")"
   ]
  },
  {
   "cell_type": "code",
   "execution_count": null,
   "id": "71fb3da7",
   "metadata": {},
   "outputs": [],
   "source": [
    "print(joinDataset.head(15))"
   ]
  },
  {
   "cell_type": "code",
   "execution_count": null,
   "id": "573c8bfb",
   "metadata": {},
   "outputs": [],
   "source": [
    "print(joinDataset.loc[joinDataset[\"_merge\"] == \"left_only\"])"
   ]
  },
  {
   "cell_type": "code",
   "execution_count": null,
   "id": "059174ae",
   "metadata": {},
   "outputs": [],
   "source": [
    "print(joinDataset[875:885])"
   ]
  },
  {
   "cell_type": "code",
   "execution_count": null,
   "id": "da57cddc",
   "metadata": {},
   "outputs": [],
   "source": [
    "getgeo = []\n",
    "for index, rows in joinDataset.iterrows():\n",
    "    if (rows._merge == \"left_only\") and (\n",
    "        [rows.muni, rows.codIbge, rows.uf] not in getgeo\n",
    "    ):\n",
    "        getgeo.append([rows.muni, rows.codIbge, rows.uf])\n",
    "        query = str(rows.muni.lower()) + \", \" + str(rows.uf.lower()) + \", \" + \"brasil\"\n",
    "        geocoder = OpenCageGeocode(key)\n",
    "        coord = geocoder.geocode(query)\n",
    "        geoloc = geoloc.append(\n",
    "            pd.Series(\n",
    "                [\n",
    "                    rows.muni,\n",
    "                    rows.codIbge,\n",
    "                    rows.uf,\n",
    "                    coord[0][\"geometry\"][\"lat\"],\n",
    "                    coord[0][\"geometry\"][\"lng\"],\n",
    "                ],\n",
    "                index=geoloc.columns,\n",
    "            ),\n",
    "            ignore_index=True,\n",
    "        )\n",
    "        print(\n",
    "            \"Municipio adicionado: \",\n",
    "            rows.muni,\n",
    "            rows.codIbge,\n",
    "            rows.uf,\n",
    "            coord[0][\"geometry\"][\"lat\"],\n",
    "            coord[0][\"geometry\"][\"lng\"],\n",
    "        )\n",
    "        joinDataset[\"lat\"] = coord[0][\"geometry\"][\"lat\"]\n",
    "        joinDataset[\"lon\"] = coord[0][\"geometry\"][\"lng\"]"
   ]
  },
  {
   "cell_type": "code",
   "execution_count": null,
   "id": "8bd8f4e8",
   "metadata": {},
   "outputs": [],
   "source": [
    "print(len(getgeo))"
   ]
  },
  {
   "cell_type": "code",
   "execution_count": null,
   "id": "9d47cf47",
   "metadata": {},
   "outputs": [],
   "source": [
    "print(joinDataset.head(15))"
   ]
  },
  {
   "cell_type": "code",
   "execution_count": null,
   "id": "49d46ba3",
   "metadata": {},
   "outputs": [],
   "source": [
    "print(joinDataset[875:885])"
   ]
  },
  {
   "cell_type": "code",
   "execution_count": null,
   "id": "9d4110c2",
   "metadata": {},
   "outputs": [],
   "source": [
    "if len(getgeo) > 0:\n",
    "    geoloc.to_csv(\"muniset.csv\", encoding=\"utf-8\")"
   ]
  },
  {
   "cell_type": "code",
   "execution_count": null,
   "id": "c61cced5",
   "metadata": {},
   "outputs": [],
   "source": [
    "print(getgeo)"
   ]
  },
  {
   "cell_type": "code",
   "execution_count": null,
   "id": "91bd59d4",
   "metadata": {},
   "outputs": [],
   "source": [
    "joinDataset.to_csv(\"covid_dataset.csv\", encoding=\"utf-8\")"
   ]
  }
 ],
 "metadata": {
  "kernelspec": {
   "display_name": "Python 3 (ipykernel)",
   "language": "python",
   "name": "python3"
  },
  "language_info": {
   "codemirror_mode": {
    "name": "ipython",
    "version": 3
   },
   "file_extension": ".py",
   "mimetype": "text/x-python",
   "name": "python",
   "nbconvert_exporter": "python",
   "pygments_lexer": "ipython3",
   "version": "3.11.7"
  }
 },
 "nbformat": 4,
 "nbformat_minor": 5
}

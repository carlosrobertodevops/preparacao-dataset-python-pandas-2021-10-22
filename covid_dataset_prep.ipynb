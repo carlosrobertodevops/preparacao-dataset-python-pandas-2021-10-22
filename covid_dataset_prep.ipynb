{
 "cells": [
  {
   "cell_type": "code",
   "execution_count": null,
   "id": "ee552fc3",
   "metadata": {},
   "outputs": [],
   "source": [
    "# -*- coding: utf-8 -*-\n",
    "import os\n",
    "import pandas as pd\n",
    "from opencage.geocoder import OpenCageGeocode"
   ]
  },
  {
   "cell_type": "code",
   "execution_count": null,
   "id": "6406d8ae",
   "metadata": {},
   "outputs": [],
   "source": [
    "opencagekey = open('key.secret', 'r')\n",
    "key = opencagekey.read().replace('\\n', '')\n",
    "opencagekey.close()"
   ]
  },
  {
   "cell_type": "code",
   "execution_count": null,
   "id": "b99b6514",
   "metadata": {},
   "outputs": [],
   "source": [
    "dataset = pd.read_csv('caso_full.csv')"
   ]
  },
  {
   "cell_type": "code",
   "execution_count": null,
   "id": "1bdc769b",
   "metadata": {},
   "outputs": [],
   "source": [
    "print(dataset[0:15])"
   ]
  },
  {
   "cell_type": "code",
   "execution_count": null,
   "id": "509877fc",
   "metadata": {},
   "outputs": [],
   "source": [
    "dataset = pd.read_csv('caso_full.csv', encoding = 'utf-8', usecols=[\\\n",
    "    'city',\n",
    "    'city_ibge_code',\n",
    "    'date',\n",
    "    'epidemiological_week',\n",
    "    'estimated_population',\n",
    "    'last_available_confirmed',\n",
    "    'last_available_confirmed_per_100k_inhabitants',\n",
    "    'last_available_deaths',\n",
    "    'place_type',\n",
    "    'state',\n",
    "    'new_confirmed',\n",
    "    'new_deaths'])"
   ]
  },
  {
   "cell_type": "code",
   "execution_count": null,
   "id": "9330223c",
   "metadata": {
    "scrolled": true
   },
   "outputs": [],
   "source": [
    "print(dataset[0:15])\n"
   ]
  },
  {
   "cell_type": "code",
   "execution_count": null,
   "id": "02b3e639",
   "metadata": {},
   "outputs": [],
   "source": [
    "dataset = dataset.rename(columns = {\\\n",
    "    'city':                     'muni',\n",
    "    'city_ibge_code':           'codIbge',\n",
    "    'date':                     'data',\n",
    "    'epidemiological_week':     'semEpid',\n",
    "    'estimated_population':     'popEstim',\n",
    "    'last_available_confirmed': 'confAcc',\n",
    "    'last_available_confirmed_per_100k_inhabitants': 'confAcc100k',\n",
    "    'last_available_deaths':    'obitoAcc',\n",
    "    'place_type':               'tipoLocal',\n",
    "    'state':                    'uf',\n",
    "    'new_confirmed':            'confDia',\n",
    "    'new_deaths':               'obitoDia'})"
   ]
  },
  {
   "cell_type": "code",
   "execution_count": null,
   "id": "7fa0849c",
   "metadata": {},
   "outputs": [],
   "source": [
    "print(dataset.head(15))"
   ]
  },
  {
   "cell_type": "code",
   "execution_count": null,
   "id": "f0ca41e4",
   "metadata": {},
   "outputs": [],
   "source": [
    "dataset.dropna(subset = ['muni', 'codIbge'], inplace = True)"
   ]
  },
  {
   "cell_type": "code",
   "execution_count": null,
   "id": "c513b0d1",
   "metadata": {},
   "outputs": [],
   "source": [
    "print(dataset.head(15))\n"
   ]
  },
  {
   "cell_type": "code",
   "execution_count": null,
   "id": "ef153da9",
   "metadata": {},
   "outputs": [],
   "source": [
    "aggregation = {\n",
    "    'muni':        'first', # Primeiro valor encontrado\n",
    "    'codIbge':     'first', # Primeiro valor encontrado\n",
    "    'data':        'last',  # Ultimo valor encontrado\n",
    "    'semEpid':     'first', # Primeiro valor encontrado\n",
    "    'popEstim':    'max',   # Maximo valor do conjunto\n",
    "    'confAcc':     'max',   # Maximo valor do conjunto\n",
    "    'confAcc100k': 'max',   # Maximo valor do conjunto\n",
    "    'obitoAcc':    'max',   # Maximo valor do conjunto\n",
    "    'tipoLocal':   'first', # Primeiro valor encontrado\n",
    "    'uf':          'first', # Primeiro valor encontrado\n",
    "    'confDia':     'sum',   # Soma dos valores do conjunto\n",
    "    'obitoDia':    'sum'}   # Soma dos valores do conjunto\n",
    "# Agrega resultados da semana epidemiológica por município\n",
    "dataset = dataset.groupby(['semEpid', 'codIbge']).aggregate(aggregation)\\\n",
    "                 .reindex(columns = dataset.columns)"
   ]
  },
  {
   "cell_type": "code",
   "execution_count": null,
   "id": "abfa70f2",
   "metadata": {
    "scrolled": true
   },
   "outputs": [],
   "source": [
    "print(dataset.head(15))"
   ]
  },
  {
   "cell_type": "code",
   "execution_count": null,
   "id": "837d2d62",
   "metadata": {},
   "outputs": [],
   "source": [
    "dataset.reset_index(drop = True, inplace = True)"
   ]
  },
  {
   "cell_type": "code",
   "execution_count": null,
   "id": "e563936e",
   "metadata": {},
   "outputs": [],
   "source": [
    "print(dataset.head(15))\n"
   ]
  },
  {
   "cell_type": "code",
   "execution_count": null,
   "id": "aca96b58",
   "metadata": {},
   "outputs": [],
   "source": [
    "print(dataset.shape[0])"
   ]
  },
  {
   "cell_type": "code",
   "execution_count": null,
   "id": "42aea0c1",
   "metadata": {},
   "outputs": [],
   "source": [
    "if not os.path.exists('rocketseat.csv'):\n",
    "    colNames = ['muni', 'codIbge', 'uf', 'lat', 'lon']\n",
    "    geoloc = pd.DataFrame(columns = colNames)\n",
    "    geoloc.to_csv('rocketseat.csv', encoding = 'utf-8')"
   ]
  },
  {
   "cell_type": "code",
   "execution_count": null,
   "id": "e0ebcfa3",
   "metadata": {},
   "outputs": [],
   "source": [
    "geoloc = pd.read_csv('teste1.csv', encoding = 'utf-8', usecols=['muni', 'codIbge', 'uf', 'lat', 'lon'])"
   ]
  },
  {
   "cell_type": "code",
   "execution_count": null,
   "id": "c1d48cef",
   "metadata": {
    "scrolled": true
   },
   "outputs": [],
   "source": [
    "print(geoloc.head(15))"
   ]
  },
  {
   "cell_type": "code",
   "execution_count": null,
   "id": "2c634173",
   "metadata": {},
   "outputs": [],
   "source": [
    "joinDataset = pd.merge(dataset, geoloc, on = ['muni', 'codIbge', 'uf'], how = 'left', indicator = True)"
   ]
  },
  {
   "cell_type": "code",
   "execution_count": null,
   "id": "71fb3da7",
   "metadata": {},
   "outputs": [],
   "source": [
    "print(joinDataset.head(15))"
   ]
  },
  {
   "cell_type": "code",
   "execution_count": null,
   "id": "573c8bfb",
   "metadata": {},
   "outputs": [],
   "source": [
    "print(joinDataset.loc[joinDataset['_merge'] == 'left_only'])"
   ]
  },
  {
   "cell_type": "code",
   "execution_count": null,
   "id": "059174ae",
   "metadata": {},
   "outputs": [],
   "source": [
    "print(joinDataset[875:885])"
   ]
  },
  {
   "cell_type": "code",
   "execution_count": null,
   "id": "da57cddc",
   "metadata": {},
   "outputs": [],
   "source": [
    "getgeo = []\n",
    "for index, rows in joinDataset.iterrows():\n",
    "    if (rows._merge == 'left_only') and ([rows.muni, rows.codIbge, rows.uf] not in getgeo):\n",
    "        getgeo.append([rows.muni, rows.codIbge, rows.uf])\n",
    "        query = (str(rows.muni.lower()) + ', ' + str(rows.uf.lower()) + ', ' + 'brasil')\n",
    "        geocoder = OpenCageGeocode(key)\n",
    "        coord = geocoder.geocode(query)\n",
    "        geoloc = geoloc.append(pd.Series([\n",
    "            rows.muni,\n",
    "            rows.codIbge,\n",
    "            rows.uf,\n",
    "            coord[0]['geometry']['lat'],\n",
    "            coord[0]['geometry']['lng']], index = geoloc.columns), ignore_index = True)\n",
    "        print('Municipio adicionado: ', rows.muni, rows.codIbge, rows.uf, coord[0]['geometry']['lat'], coord[0]['geometry']['lng'])\n",
    "        joinDataset['lat'] = coord[0]['geometry']['lat']\n",
    "        joinDataset['lon'] = coord[0]['geometry']['lng']\n"
   ]
  },
  {
   "cell_type": "code",
   "execution_count": null,
   "id": "8bd8f4e8",
   "metadata": {},
   "outputs": [],
   "source": [
    "print(len(getgeo))"
   ]
  },
  {
   "cell_type": "code",
   "execution_count": null,
   "id": "9d47cf47",
   "metadata": {},
   "outputs": [],
   "source": [
    "print(joinDataset.head(15))\n"
   ]
  },
  {
   "cell_type": "code",
   "execution_count": null,
   "id": "49d46ba3",
   "metadata": {},
   "outputs": [],
   "source": [
    "print(joinDataset[875:885])"
   ]
  },
  {
   "cell_type": "code",
   "execution_count": null,
   "id": "9d4110c2",
   "metadata": {},
   "outputs": [],
   "source": [
    "if len(getgeo) > 0:\n",
    "    geoloc.to_csv('muniset.csv', encoding = 'utf-8')"
   ]
  },
  {
   "cell_type": "code",
   "execution_count": null,
   "id": "c61cced5",
   "metadata": {},
   "outputs": [],
   "source": [
    "print(getgeo)"
   ]
  },
  {
   "cell_type": "code",
   "execution_count": null,
   "id": "91bd59d4",
   "metadata": {},
   "outputs": [],
   "source": [
    "joinDataset.to_csv('covid_dataset.csv', encoding = 'utf-8')"
   ]
  }
 ],
 "metadata": {
  "kernelspec": {
   "display_name": "Python 3 (ipykernel)",
   "language": "python",
   "name": "python3"
  },
  "language_info": {
   "codemirror_mode": {
    "name": "ipython",
    "version": 3
   },
   "file_extension": ".py",
   "mimetype": "text/x-python",
   "name": "python",
   "nbconvert_exporter": "python",
   "pygments_lexer": "ipython3",
   "version": "3.8.10"
  }
 },
 "nbformat": 4,
 "nbformat_minor": 5
}
